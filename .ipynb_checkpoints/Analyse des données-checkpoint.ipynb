{
 "cells": [
  {
   "attachments": {
    "94920d49-53ff-4ff6-992f-ad6ebf592e8c.png": {
     "image/png": "[encoded data removed]"
    }
   },
   "cell_type": "markdown",
   "id": "7d4c7055-e080-45b5-a88a-358032a0277b",
   "metadata": {},
   "source": [
    "# Projet personnel sur l'analyse des données\n",
    "\n",
    "## Nettoyage et gestion des données\n",
    "\n",
    "### Réalisé par: Karim Gargouri\n",
    "\n",
    "#### Ce projet est réalisé à l'aide du langage de programmation Python ainsi que ces libraires de sciences des données:\n",
    "### Numpy, Pandas, Matplotlib et d'autres libraires nécessaires à l'import et l'export des données.\n",
    "### Ce projet se résume en ces étapes ci-dessous:\n",
    "0. Retrouver des données à analyser et à nettoyer sous la forme de plusieurs fichiers Excel.\n",
    "1. Fusionner toutes les données dans un seul Dataframe.\n",
    "2. Effectuer l'analyse des données afin de détecter des valeurs à nettoyer.\n",
    "3. Effectuer le nettoyage des données.\n",
    "4. Créer de divers diagrammes de statistique.\n",
    "5. Exporter les données dans une base des données SQL.\n",
    "\n",
    "#### Introduction\n",
    "- Des données sur la vente de plusieurs modèle de vélos dans le monde sont représentées sous forme d'un fichier Excel. Elles ont été tirées du site internet **[suivant](https://www.learningcontainer.com/sample-excel-data-for-analysis/).**\n",
    "- Ces données ont été réparties sur 2 fichiers Excel: Le premier des données pour l'année 2013 et l'autre pour l'année 2014.\n",
    "    - Chaque fichier contient une seule feuille et la meme entete (memes noms des colonnes):\n",
    "![image.png](attachment:94920d49-53ff-4ff6-992f-ad6ebf592e8c.png)\n",
    "**- Quelques informations ont été changées ou effacées manuellement pour qu'on puisse les analyser et les nettoyer.**"
   ]
  },
  {
   "cell_type": "markdown",
   "id": "45db3185-4c26-441a-9000-1d236150629e",
   "metadata": {},
   "source": [
    "##### Tout d'abord il faut importer les librairies nécessaires"
   ]
  },
  {
   "cell_type": "code",
   "execution_count": 1,
   "id": "8ba40319-5981-4fc1-bb57-e032675b1eb9",
   "metadata": {},
   "outputs": [],
   "source": [
    "import os\n",
    "import numpy as np\n",
    "import pandas as pd\n",
    "import matplotlib.pyplot as plt\n",
    "import sqlite3"
   ]
  },
  {
   "cell_type": "markdown",
   "id": "f69e8e60-7b48-4898-ad49-d5300db6b10f",
   "metadata": {},
   "source": [
    "#### Étape 1 Charger et fusionner toutes les données sur Pandas (Python):\n",
    "- Afin de pouvoir manipuler les données et les corriger on va charger toutes les données des 2 fichiers sur Pandas:"
   ]
  },
  {
   "cell_type": "code",
   "execution_count": 2,
   "id": "9a6839f4-2db0-42b1-9a5d-65a0638039b1",
   "metadata": {
    "tags": []
   },
   "outputs": [
    {
     "data": {
      "text/plain": [
       "['.ipynb_checkpoints',\n",
       " 'Analyse des données.ipynb',\n",
       " 'Erreurs.txt',\n",
       " 'sample-xls-file-for-testing-2013.xls',\n",
       " 'sample-xls-file-for-testing-2014.xls',\n",
       " 'xlsx']"
      ]
     },
     "execution_count": 2,
     "metadata": {},
     "output_type": "execute_result"
    }
   ],
   "source": [
    "# List files\n",
    "path = os.getcwd()\n",
    "files = os.listdir(path)\n",
    "files"
   ]
  },
  {
   "cell_type": "code",
   "execution_count": 3,
   "id": "1caa7572-29dc-4bef-b519-a461071e3fad",
   "metadata": {},
   "outputs": [
    {
     "data": {
      "text/plain": [
       "['sample-xls-file-for-testing-2013.xls',\n",
       " 'sample-xls-file-for-testing-2014.xls']"
      ]
     },
     "execution_count": 3,
     "metadata": {},
     "output_type": "execute_result"
    }
   ],
   "source": [
    "# Pick out 'xls' files\n",
    "files_xls = [f for f in files if f[-3:] == 'xls']\n",
    "files_xls"
   ]
  },
  {
   "cell_type": "code",
   "execution_count": 4,
   "id": "f1a475a2-1cd1-4899-b613-24c1ba11439c",
   "metadata": {},
   "outputs": [
    {
     "data": {
      "text/html": [
       "<div>\n",
       "<style scoped>\n",
       "    .dataframe tbody tr th:only-of-type {\n",
       "        vertical-align: middle;\n",
       "    }\n",
       "\n",
       "    .dataframe tbody tr th {\n",
       "        vertical-align: top;\n",
       "    }\n",
       "\n",
       "    .dataframe thead th {\n",
       "        text-align: right;\n",
       "    }\n",
       "</style>\n",
       "<table border=\"1\" class=\"dataframe\">\n",
       "  <thead>\n",
       "    <tr style=\"text-align: right;\">\n",
       "      <th></th>\n",
       "      <th>Country</th>\n",
       "      <th>Product</th>\n",
       "      <th>Discount Band</th>\n",
       "      <th>Units Sold</th>\n",
       "      <th>Manufacturing Price</th>\n",
       "      <th>Sale Price</th>\n",
       "      <th>Gross Sales</th>\n",
       "      <th>Discounts</th>\n",
       "      <th>Sales</th>\n",
       "      <th>COGS</th>\n",
       "      <th>Profit</th>\n",
       "      <th>Date</th>\n",
       "      <th>Month Number</th>\n",
       "      <th>Month Name</th>\n",
       "      <th>Year</th>\n",
       "    </tr>\n",
       "    <tr>\n",
       "      <th>Segment</th>\n",
       "      <th></th>\n",
       "      <th></th>\n",
       "      <th></th>\n",
       "      <th></th>\n",
       "      <th></th>\n",
       "      <th></th>\n",
       "      <th></th>\n",
       "      <th></th>\n",
       "      <th></th>\n",
       "      <th></th>\n",
       "      <th></th>\n",
       "      <th></th>\n",
       "      <th></th>\n",
       "      <th></th>\n",
       "      <th></th>\n",
       "    </tr>\n",
       "  </thead>\n",
       "  <tbody>\n",
       "    <tr>\n",
       "      <th>Enterprise</th>\n",
       "      <td>Canada</td>\n",
       "      <td>Montana</td>\n",
       "      <td>None</td>\n",
       "      <td>345.0</td>\n",
       "      <td>5.0</td>\n",
       "      <td>125.0</td>\n",
       "      <td>43125.0</td>\n",
       "      <td>0.0</td>\n",
       "      <td>43125.0</td>\n",
       "      <td>41400.0</td>\n",
       "      <td>1725.0</td>\n",
       "      <td>2013-10-01</td>\n",
       "      <td>10.0</td>\n",
       "      <td>October</td>\n",
       "      <td>2013.0</td>\n",
       "    </tr>\n",
       "    <tr>\n",
       "      <th>Midmarket</th>\n",
       "      <td>France</td>\n",
       "      <td>Paseo</td>\n",
       "      <td>None</td>\n",
       "      <td>549.0</td>\n",
       "      <td>10.0</td>\n",
       "      <td>15.0</td>\n",
       "      <td>8235.0</td>\n",
       "      <td>0.0</td>\n",
       "      <td>8235.0</td>\n",
       "      <td>5490.0</td>\n",
       "      <td>2745.0</td>\n",
       "      <td>2013-09-01</td>\n",
       "      <td>9.0</td>\n",
       "      <td>September</td>\n",
       "      <td>2013.0</td>\n",
       "    </tr>\n",
       "    <tr>\n",
       "      <th>Small Business</th>\n",
       "      <td>Mexico</td>\n",
       "      <td>Paseo</td>\n",
       "      <td>None</td>\n",
       "      <td>788.0</td>\n",
       "      <td>10.0</td>\n",
       "      <td>300.0</td>\n",
       "      <td>236400.0</td>\n",
       "      <td>0.0</td>\n",
       "      <td>236400.0</td>\n",
       "      <td>197000.0</td>\n",
       "      <td>39400.0</td>\n",
       "      <td>2013-09-01</td>\n",
       "      <td>9.0</td>\n",
       "      <td>September</td>\n",
       "      <td>2013.0</td>\n",
       "    </tr>\n",
       "    <tr>\n",
       "      <th>Government</th>\n",
       "      <td>Canada</td>\n",
       "      <td>Paseo</td>\n",
       "      <td>None</td>\n",
       "      <td>1725.0</td>\n",
       "      <td>10.0</td>\n",
       "      <td>350.0</td>\n",
       "      <td>603750.0</td>\n",
       "      <td>0.0</td>\n",
       "      <td>603750.0</td>\n",
       "      <td>448500.0</td>\n",
       "      <td>155250.0</td>\n",
       "      <td>2013-11-01</td>\n",
       "      <td>11.0</td>\n",
       "      <td>November</td>\n",
       "      <td>2013.0</td>\n",
       "    </tr>\n",
       "    <tr>\n",
       "      <th>Channel Partners</th>\n",
       "      <td>United States of America</td>\n",
       "      <td>Paseo</td>\n",
       "      <td>None</td>\n",
       "      <td>912.0</td>\n",
       "      <td>10.0</td>\n",
       "      <td>12.0</td>\n",
       "      <td>10944.0</td>\n",
       "      <td>0.0</td>\n",
       "      <td>10944.0</td>\n",
       "      <td>2736.0</td>\n",
       "      <td>8208.0</td>\n",
       "      <td>2013-11-01</td>\n",
       "      <td>11.0</td>\n",
       "      <td>November</td>\n",
       "      <td>2013.0</td>\n",
       "    </tr>\n",
       "    <tr>\n",
       "      <th>...</th>\n",
       "      <td>...</td>\n",
       "      <td>...</td>\n",
       "      <td>...</td>\n",
       "      <td>...</td>\n",
       "      <td>...</td>\n",
       "      <td>...</td>\n",
       "      <td>...</td>\n",
       "      <td>...</td>\n",
       "      <td>...</td>\n",
       "      <td>...</td>\n",
       "      <td>...</td>\n",
       "      <td>...</td>\n",
       "      <td>...</td>\n",
       "      <td>...</td>\n",
       "      <td>...</td>\n",
       "    </tr>\n",
       "    <tr>\n",
       "      <th>Channel Partners</th>\n",
       "      <td>Germany</td>\n",
       "      <td>Montana</td>\n",
       "      <td>None</td>\n",
       "      <td>1545.0</td>\n",
       "      <td>5.0</td>\n",
       "      <td>12.0</td>\n",
       "      <td>18540.0</td>\n",
       "      <td>0.0</td>\n",
       "      <td>18540.0</td>\n",
       "      <td>4635.0</td>\n",
       "      <td>13905.0</td>\n",
       "      <td>2014-06-01</td>\n",
       "      <td>6.0</td>\n",
       "      <td>June</td>\n",
       "      <td>2014.0</td>\n",
       "    </tr>\n",
       "    <tr>\n",
       "      <th>Midmarket</th>\n",
       "      <td>Mexico</td>\n",
       "      <td>Montana</td>\n",
       "      <td>None</td>\n",
       "      <td>2470.0</td>\n",
       "      <td>5.0</td>\n",
       "      <td>15.0</td>\n",
       "      <td>37050.0</td>\n",
       "      <td>0.0</td>\n",
       "      <td>37050.0</td>\n",
       "      <td>24700.0</td>\n",
       "      <td>12350.0</td>\n",
       "      <td>2014-06-01</td>\n",
       "      <td>6.0</td>\n",
       "      <td>June</td>\n",
       "      <td>2014.0</td>\n",
       "    </tr>\n",
       "    <tr>\n",
       "      <th>Enterprise</th>\n",
       "      <td>Canada</td>\n",
       "      <td>Montana</td>\n",
       "      <td>None</td>\n",
       "      <td>2665.5</td>\n",
       "      <td>5.0</td>\n",
       "      <td>125.0</td>\n",
       "      <td>333187.5</td>\n",
       "      <td>0.0</td>\n",
       "      <td>333187.5</td>\n",
       "      <td>319860.0</td>\n",
       "      <td>13327.5</td>\n",
       "      <td>2014-07-01</td>\n",
       "      <td>7.0</td>\n",
       "      <td>July</td>\n",
       "      <td>2014.0</td>\n",
       "    </tr>\n",
       "    <tr>\n",
       "      <th>Small Business</th>\n",
       "      <td>Mexico</td>\n",
       "      <td>Montana</td>\n",
       "      <td>None</td>\n",
       "      <td>958.0</td>\n",
       "      <td>5.0</td>\n",
       "      <td>300.0</td>\n",
       "      <td>287400.0</td>\n",
       "      <td>0.0</td>\n",
       "      <td>287400.0</td>\n",
       "      <td>239500.0</td>\n",
       "      <td>47900.0</td>\n",
       "      <td>2014-08-01</td>\n",
       "      <td>8.0</td>\n",
       "      <td>August</td>\n",
       "      <td>2014.0</td>\n",
       "    </tr>\n",
       "    <tr>\n",
       "      <th>Government</th>\n",
       "      <td>Germany</td>\n",
       "      <td>Montana</td>\n",
       "      <td>None</td>\n",
       "      <td>2146.0</td>\n",
       "      <td>5.0</td>\n",
       "      <td>7.0</td>\n",
       "      <td>15022.0</td>\n",
       "      <td>0.0</td>\n",
       "      <td>15022.0</td>\n",
       "      <td>10730.0</td>\n",
       "      <td>4292.0</td>\n",
       "      <td>2014-09-01</td>\n",
       "      <td>9.0</td>\n",
       "      <td>September</td>\n",
       "      <td>2014.0</td>\n",
       "    </tr>\n",
       "  </tbody>\n",
       "</table>\n",
       "<p>714 rows × 15 columns</p>\n",
       "</div>"
      ],
      "text/plain": [
       "                                   Country  Product Discount Band  Units Sold  \\\n",
       "Segment                                                                         \n",
       "Enterprise                          Canada  Montana          None       345.0   \n",
       "Midmarket                           France    Paseo          None       549.0   \n",
       "Small Business                      Mexico    Paseo          None       788.0   \n",
       "Government                          Canada    Paseo          None      1725.0   \n",
       "Channel Partners  United States of America    Paseo          None       912.0   \n",
       "...                                    ...      ...           ...         ...   \n",
       "Channel Partners                   Germany  Montana          None      1545.0   \n",
       "Midmarket                           Mexico  Montana          None      2470.0   \n",
       "Enterprise                          Canada  Montana          None      2665.5   \n",
       "Small Business                      Mexico  Montana          None       958.0   \n",
       "Government                         Germany  Montana          None      2146.0   \n",
       "\n",
       "                  Manufacturing Price  Sale Price  Gross Sales  Discounts  \\\n",
       "Segment                                                                     \n",
       "Enterprise                        5.0       125.0      43125.0        0.0   \n",
       "Midmarket                        10.0        15.0       8235.0        0.0   \n",
       "Small Business                   10.0       300.0     236400.0        0.0   \n",
       "Government                       10.0       350.0     603750.0        0.0   \n",
       "Channel Partners                 10.0        12.0      10944.0        0.0   \n",
       "...                               ...         ...          ...        ...   \n",
       "Channel Partners                  5.0        12.0      18540.0        0.0   \n",
       "Midmarket                         5.0        15.0      37050.0        0.0   \n",
       "Enterprise                        5.0       125.0     333187.5        0.0   \n",
       "Small Business                    5.0       300.0     287400.0        0.0   \n",
       "Government                        5.0         7.0      15022.0        0.0   \n",
       "\n",
       "                     Sales      COGS    Profit       Date  Month Number  \\\n",
       "Segment                                                                   \n",
       "Enterprise         43125.0   41400.0    1725.0 2013-10-01          10.0   \n",
       "Midmarket           8235.0    5490.0    2745.0 2013-09-01           9.0   \n",
       "Small Business    236400.0  197000.0   39400.0 2013-09-01           9.0   \n",
       "Government        603750.0  448500.0  155250.0 2013-11-01          11.0   \n",
       "Channel Partners   10944.0    2736.0    8208.0 2013-11-01          11.0   \n",
       "...                    ...       ...       ...        ...           ...   \n",
       "Channel Partners   18540.0    4635.0   13905.0 2014-06-01           6.0   \n",
       "Midmarket          37050.0   24700.0   12350.0 2014-06-01           6.0   \n",
       "Enterprise        333187.5  319860.0   13327.5 2014-07-01           7.0   \n",
       "Small Business    287400.0  239500.0   47900.0 2014-08-01           8.0   \n",
       "Government         15022.0   10730.0    4292.0 2014-09-01           9.0   \n",
       "\n",
       "                 Month Name    Year  \n",
       "Segment                              \n",
       "Enterprise          October  2013.0  \n",
       "Midmarket         September  2013.0  \n",
       "Small Business    September  2013.0  \n",
       "Government         November  2013.0  \n",
       "Channel Partners   November  2013.0  \n",
       "...                     ...     ...  \n",
       "Channel Partners       June  2014.0  \n",
       "Midmarket              June  2014.0  \n",
       "Enterprise             July  2014.0  \n",
       "Small Business       August  2014.0  \n",
       "Government        September  2014.0  \n",
       "\n",
       "[714 rows x 15 columns]"
      ]
     },
     "execution_count": 4,
     "metadata": {},
     "output_type": "execute_result"
    }
   ],
   "source": [
    "# Initialize empty dataframe\n",
    "df = pd.DataFrame()\n",
    "\n",
    "#Loop over list of files to append to empty dataframe\n",
    "for f in files_xls:\n",
    "    data = pd.read_excel(f,\n",
    "                         index_col='Segment',\n",
    "                         sheet_name='Sheet1')\n",
    "    df = df.append(data)\n",
    "df"
   ]
  },
  {
   "cell_type": "markdown",
   "id": "0199a824-0885-415c-bcad-dfed3abcc50e",
   "metadata": {},
   "source": [
    "- Afin de vérifier les types des données:"
   ]
  },
  {
   "cell_type": "code",
   "execution_count": 5,
   "id": "899375e9-28bd-42bd-9f80-d3edb426ae02",
   "metadata": {},
   "outputs": [
    {
     "name": "stdout",
     "output_type": "stream",
     "text": [
      "<class 'pandas.core.frame.DataFrame'>\n",
      "Index: 714 entries, Enterprise to Government\n",
      "Data columns (total 15 columns):\n",
      " #   Column               Non-Null Count  Dtype         \n",
      "---  ------               --------------  -----         \n",
      " 0   Country              714 non-null    object        \n",
      " 1   Product              189 non-null    object        \n",
      " 2   Discount Band        189 non-null    object        \n",
      " 3   Units Sold           189 non-null    float64       \n",
      " 4   Manufacturing Price  189 non-null    float64       \n",
      " 5   Sale Price           189 non-null    float64       \n",
      " 6   Gross Sales          189 non-null    float64       \n",
      " 7   Discounts            189 non-null    float64       \n",
      " 8    Sales               189 non-null    float64       \n",
      " 9   COGS                 189 non-null    float64       \n",
      " 10  Profit               189 non-null    float64       \n",
      " 11  Date                 189 non-null    datetime64[ns]\n",
      " 12  Month Number         189 non-null    float64       \n",
      " 13  Month Name           189 non-null    object        \n",
      " 14  Year                 189 non-null    float64       \n",
      "dtypes: datetime64[ns](1), float64(10), object(4)\n",
      "memory usage: 89.2+ KB\n"
     ]
    }
   ],
   "source": [
    "df.info()"
   ]
  },
  {
   "cell_type": "markdown",
   "id": "9e14c1a0-89f8-4f23-bf64-c6d8310d215a",
   "metadata": {},
   "source": [
    "+ Les informations et les types des données sont corrects.\n",
    "+ On prend le cas ou les colonnes qu'on va enlever dans la prochaine commande ne seront pas importants pour notre base des données."
   ]
  },
  {
   "cell_type": "code",
   "execution_count": 6,
   "id": "cdd396ce-0af3-4f0f-bbea-8fc244aae33f",
   "metadata": {},
   "outputs": [],
   "source": [
    "df.drop(['Year','Month Name','Month Number','Discounts',' Sales','Gross Sales','COGS'],axis=1,inplace=True)"
   ]
  },
  {
   "cell_type": "code",
   "execution_count": 7,
   "id": "1e6ceb08-ca43-4163-9aa4-4e2edfc44ed3",
   "metadata": {},
   "outputs": [
    {
     "data": {
      "text/html": [
       "<div>\n",
       "<style scoped>\n",
       "    .dataframe tbody tr th:only-of-type {\n",
       "        vertical-align: middle;\n",
       "    }\n",
       "\n",
       "    .dataframe tbody tr th {\n",
       "        vertical-align: top;\n",
       "    }\n",
       "\n",
       "    .dataframe thead th {\n",
       "        text-align: right;\n",
       "    }\n",
       "</style>\n",
       "<table border=\"1\" class=\"dataframe\">\n",
       "  <thead>\n",
       "    <tr style=\"text-align: right;\">\n",
       "      <th></th>\n",
       "      <th>Country</th>\n",
       "      <th>Product</th>\n",
       "      <th>Discount Band</th>\n",
       "      <th>Units Sold</th>\n",
       "      <th>Manufacturing Price</th>\n",
       "      <th>Sale Price</th>\n",
       "      <th>Profit</th>\n",
       "      <th>Date</th>\n",
       "    </tr>\n",
       "    <tr>\n",
       "      <th>Segment</th>\n",
       "      <th></th>\n",
       "      <th></th>\n",
       "      <th></th>\n",
       "      <th></th>\n",
       "      <th></th>\n",
       "      <th></th>\n",
       "      <th></th>\n",
       "      <th></th>\n",
       "    </tr>\n",
       "  </thead>\n",
       "  <tbody>\n",
       "    <tr>\n",
       "      <th>Enterprise</th>\n",
       "      <td>Canada</td>\n",
       "      <td>Montana</td>\n",
       "      <td>None</td>\n",
       "      <td>345.0</td>\n",
       "      <td>5.0</td>\n",
       "      <td>125.0</td>\n",
       "      <td>1725.0</td>\n",
       "      <td>2013-10-01</td>\n",
       "    </tr>\n",
       "    <tr>\n",
       "      <th>Midmarket</th>\n",
       "      <td>France</td>\n",
       "      <td>Paseo</td>\n",
       "      <td>None</td>\n",
       "      <td>549.0</td>\n",
       "      <td>10.0</td>\n",
       "      <td>15.0</td>\n",
       "      <td>2745.0</td>\n",
       "      <td>2013-09-01</td>\n",
       "    </tr>\n",
       "    <tr>\n",
       "      <th>Small Business</th>\n",
       "      <td>Mexico</td>\n",
       "      <td>Paseo</td>\n",
       "      <td>None</td>\n",
       "      <td>788.0</td>\n",
       "      <td>10.0</td>\n",
       "      <td>300.0</td>\n",
       "      <td>39400.0</td>\n",
       "      <td>2013-09-01</td>\n",
       "    </tr>\n",
       "    <tr>\n",
       "      <th>Government</th>\n",
       "      <td>Canada</td>\n",
       "      <td>Paseo</td>\n",
       "      <td>None</td>\n",
       "      <td>1725.0</td>\n",
       "      <td>10.0</td>\n",
       "      <td>350.0</td>\n",
       "      <td>155250.0</td>\n",
       "      <td>2013-11-01</td>\n",
       "    </tr>\n",
       "    <tr>\n",
       "      <th>Channel Partners</th>\n",
       "      <td>United States of America</td>\n",
       "      <td>Paseo</td>\n",
       "      <td>None</td>\n",
       "      <td>912.0</td>\n",
       "      <td>10.0</td>\n",
       "      <td>12.0</td>\n",
       "      <td>8208.0</td>\n",
       "      <td>2013-11-01</td>\n",
       "    </tr>\n",
       "    <tr>\n",
       "      <th>...</th>\n",
       "      <td>...</td>\n",
       "      <td>...</td>\n",
       "      <td>...</td>\n",
       "      <td>...</td>\n",
       "      <td>...</td>\n",
       "      <td>...</td>\n",
       "      <td>...</td>\n",
       "      <td>...</td>\n",
       "    </tr>\n",
       "    <tr>\n",
       "      <th>Channel Partners</th>\n",
       "      <td>Germany</td>\n",
       "      <td>Montana</td>\n",
       "      <td>None</td>\n",
       "      <td>1545.0</td>\n",
       "      <td>5.0</td>\n",
       "      <td>12.0</td>\n",
       "      <td>13905.0</td>\n",
       "      <td>2014-06-01</td>\n",
       "    </tr>\n",
       "    <tr>\n",
       "      <th>Midmarket</th>\n",
       "      <td>Mexico</td>\n",
       "      <td>Montana</td>\n",
       "      <td>None</td>\n",
       "      <td>2470.0</td>\n",
       "      <td>5.0</td>\n",
       "      <td>15.0</td>\n",
       "      <td>12350.0</td>\n",
       "      <td>2014-06-01</td>\n",
       "    </tr>\n",
       "    <tr>\n",
       "      <th>Enterprise</th>\n",
       "      <td>Canada</td>\n",
       "      <td>Montana</td>\n",
       "      <td>None</td>\n",
       "      <td>2665.5</td>\n",
       "      <td>5.0</td>\n",
       "      <td>125.0</td>\n",
       "      <td>13327.5</td>\n",
       "      <td>2014-07-01</td>\n",
       "    </tr>\n",
       "    <tr>\n",
       "      <th>Small Business</th>\n",
       "      <td>Mexico</td>\n",
       "      <td>Montana</td>\n",
       "      <td>None</td>\n",
       "      <td>958.0</td>\n",
       "      <td>5.0</td>\n",
       "      <td>300.0</td>\n",
       "      <td>47900.0</td>\n",
       "      <td>2014-08-01</td>\n",
       "    </tr>\n",
       "    <tr>\n",
       "      <th>Government</th>\n",
       "      <td>Germany</td>\n",
       "      <td>Montana</td>\n",
       "      <td>None</td>\n",
       "      <td>2146.0</td>\n",
       "      <td>5.0</td>\n",
       "      <td>7.0</td>\n",
       "      <td>4292.0</td>\n",
       "      <td>2014-09-01</td>\n",
       "    </tr>\n",
       "  </tbody>\n",
       "</table>\n",
       "<p>714 rows × 8 columns</p>\n",
       "</div>"
      ],
      "text/plain": [
       "                                   Country  Product Discount Band  Units Sold  \\\n",
       "Segment                                                                         \n",
       "Enterprise                          Canada  Montana          None       345.0   \n",
       "Midmarket                           France    Paseo          None       549.0   \n",
       "Small Business                      Mexico    Paseo          None       788.0   \n",
       "Government                          Canada    Paseo          None      1725.0   \n",
       "Channel Partners  United States of America    Paseo          None       912.0   \n",
       "...                                    ...      ...           ...         ...   \n",
       "Channel Partners                   Germany  Montana          None      1545.0   \n",
       "Midmarket                           Mexico  Montana          None      2470.0   \n",
       "Enterprise                          Canada  Montana          None      2665.5   \n",
       "Small Business                      Mexico  Montana          None       958.0   \n",
       "Government                         Germany  Montana          None      2146.0   \n",
       "\n",
       "                  Manufacturing Price  Sale Price    Profit       Date  \n",
       "Segment                                                                 \n",
       "Enterprise                        5.0       125.0    1725.0 2013-10-01  \n",
       "Midmarket                        10.0        15.0    2745.0 2013-09-01  \n",
       "Small Business                   10.0       300.0   39400.0 2013-09-01  \n",
       "Government                       10.0       350.0  155250.0 2013-11-01  \n",
       "Channel Partners                 10.0        12.0    8208.0 2013-11-01  \n",
       "...                               ...         ...       ...        ...  \n",
       "Channel Partners                  5.0        12.0   13905.0 2014-06-01  \n",
       "Midmarket                         5.0        15.0   12350.0 2014-06-01  \n",
       "Enterprise                        5.0       125.0   13327.5 2014-07-01  \n",
       "Small Business                    5.0       300.0   47900.0 2014-08-01  \n",
       "Government                        5.0         7.0    4292.0 2014-09-01  \n",
       "\n",
       "[714 rows x 8 columns]"
      ]
     },
     "execution_count": 7,
     "metadata": {},
     "output_type": "execute_result"
    }
   ],
   "source": [
    "df"
   ]
  },
  {
   "cell_type": "markdown",
   "id": "3d3217b5-7c9c-4526-ae82-9db402303790",
   "metadata": {},
   "source": [
    "- Afin de détecter les valeurs nulles dans le tableau:"
   ]
  },
  {
   "cell_type": "code",
   "execution_count": 8,
   "id": "1c726023-39b1-4db4-a68a-b71e2c186369",
   "metadata": {},
   "outputs": [
    {
     "data": {
      "text/plain": [
       "Country                  0\n",
       "Product                525\n",
       "Discount Band          525\n",
       "Units Sold             525\n",
       "Manufacturing Price    525\n",
       "Sale Price             525\n",
       "Profit                 525\n",
       "Date                   525\n",
       "dtype: int64"
      ]
     },
     "execution_count": 8,
     "metadata": {},
     "output_type": "execute_result"
    }
   ],
   "source": [
    "df.isnull().sum()"
   ]
  },
  {
   "cell_type": "markdown",
   "id": "4684d06a-59b3-499f-b0f1-5e02145682fc",
   "metadata": {},
   "source": [
    "+ On remarque qu'il y a plusieurs lignes vides et leurs nombres sont égaux\n",
    "+ On supprime les lignes ou il y a les données pour les 8 colonnes vides."
   ]
  },
  {
   "cell_type": "code",
   "execution_count": 9,
   "id": "1edc10e6-4aec-4cfd-8f9e-87ee59f2716e",
   "metadata": {},
   "outputs": [],
   "source": [
    "df.dropna(axis=0,thresh=8,inplace=True)"
   ]
  },
  {
   "cell_type": "code",
   "execution_count": 10,
   "id": "dd8df3da-2b30-404e-8bd8-a41892357b0d",
   "metadata": {},
   "outputs": [
    {
     "data": {
      "text/plain": [
       "Country                0\n",
       "Product                0\n",
       "Discount Band          0\n",
       "Units Sold             0\n",
       "Manufacturing Price    0\n",
       "Sale Price             0\n",
       "Profit                 0\n",
       "Date                   0\n",
       "dtype: int64"
      ]
     },
     "execution_count": 10,
     "metadata": {},
     "output_type": "execute_result"
    }
   ],
   "source": [
    "df.isnull().sum()"
   ]
  },
  {
   "cell_type": "markdown",
   "id": "4017321a-2165-49b6-a167-94dcfa0e766c",
   "metadata": {},
   "source": [
    "+ On peut remarquer que toutes les lignes vides ont été enlevées\n",
    "--------\n",
    "+ Vérification des données:\n",
    "    + On sait que pour le meme produit le cout d'une d'un vélo doit etre le meme"
   ]
  },
  {
   "cell_type": "code",
   "execution_count": 11,
   "id": "b3c66221-b31d-4bad-8431-2910efd24d36",
   "metadata": {},
   "outputs": [
    {
     "data": {
      "text/plain": [
       "10.0     49\n",
       "5.0      31\n",
       "3.0      29\n",
       "250.0    28\n",
       "120.0    27\n",
       "260.0    22\n",
       "0.0       2\n",
       "12.0      1\n",
       "Name: Manufacturing Price, dtype: int64"
      ]
     },
     "execution_count": 11,
     "metadata": {},
     "output_type": "execute_result"
    }
   ],
   "source": [
    "df['Manufacturing Price'].value_counts()"
   ]
  },
  {
   "cell_type": "markdown",
   "id": "1f8aa4de-5dca-44d0-8359-d01f9cc20d29",
   "metadata": {},
   "source": [
    "+ La valeur 12.0 n'apparait qu'une seule fois et la valeur 0.0 n'est pas logique!\n",
    "+ Vérifions leurs produits équivalents:\n",
    "    + recherche des 0.0 et 12.0 dans 'Manufacturing Price' (**Construction en cours**)"
   ]
  },
  {
   "cell_type": "code",
   "execution_count": 12,
   "id": "900d1074-5139-4e2c-b699-e285ca442401",
   "metadata": {},
   "outputs": [
    {
     "data": {
      "text/plain": [
       "Segment\n",
       "Enterprise           5.0\n",
       "Midmarket           10.0\n",
       "Small Business      10.0\n",
       "Government          10.0\n",
       "Channel Partners    10.0\n",
       "                    ... \n",
       "Channel Partners     5.0\n",
       "Midmarket            5.0\n",
       "Enterprise           5.0\n",
       "Small Business       5.0\n",
       "Government           5.0\n",
       "Name: Manufacturing Price, Length: 189, dtype: float64"
      ]
     },
     "execution_count": 12,
     "metadata": {},
     "output_type": "execute_result"
    }
   ],
   "source": [
    "df.loc[:,'Manufacturing Price']"
   ]
  },
  {
   "cell_type": "code",
   "execution_count": 13,
   "id": "465552b4-e142-4cc4-a96f-0f2df8c0897a",
   "metadata": {},
   "outputs": [
    {
     "data": {
      "text/html": [
       "<div>\n",
       "<style scoped>\n",
       "    .dataframe tbody tr th:only-of-type {\n",
       "        vertical-align: middle;\n",
       "    }\n",
       "\n",
       "    .dataframe tbody tr th {\n",
       "        vertical-align: top;\n",
       "    }\n",
       "\n",
       "    .dataframe thead th {\n",
       "        text-align: right;\n",
       "    }\n",
       "</style>\n",
       "<table border=\"1\" class=\"dataframe\">\n",
       "  <thead>\n",
       "    <tr style=\"text-align: right;\">\n",
       "      <th></th>\n",
       "      <th>Country</th>\n",
       "      <th>Product</th>\n",
       "      <th>Discount Band</th>\n",
       "      <th>Units Sold</th>\n",
       "      <th>Manufacturing Price</th>\n",
       "      <th>Sale Price</th>\n",
       "      <th>Profit</th>\n",
       "      <th>Date</th>\n",
       "    </tr>\n",
       "    <tr>\n",
       "      <th>Segment</th>\n",
       "      <th></th>\n",
       "      <th></th>\n",
       "      <th></th>\n",
       "      <th></th>\n",
       "      <th></th>\n",
       "      <th></th>\n",
       "      <th></th>\n",
       "      <th></th>\n",
       "    </tr>\n",
       "  </thead>\n",
       "  <tbody>\n",
       "  </tbody>\n",
       "</table>\n",
       "</div>"
      ],
      "text/plain": [
       "Empty DataFrame\n",
       "Columns: [Country, Product, Discount Band, Units Sold, Manufacturing Price, Sale Price, Profit, Date]\n",
       "Index: []"
      ]
     },
     "execution_count": 13,
     "metadata": {},
     "output_type": "execute_result"
    }
   ],
   "source": [
    "df[df.eq('12.0').any(1)]"
   ]
  },
  {
   "cell_type": "markdown",
   "id": "da0dabb7-d7a0-44ee-8804-98f8803e99e6",
   "metadata": {},
   "source": [
    "#### Création d'un histogramme qui permet de vérifier la cohérence des données (Les produit en lien avec leurs prix unitaires) \n",
    "**(Construction en cours)**"
   ]
  },
  {
   "cell_type": "code",
   "execution_count": 14,
   "id": "f30c34fd-852c-41e8-bd77-f0c899aa2e0d",
   "metadata": {},
   "outputs": [
    {
     "data": {
      "text/plain": [
       "array([[<AxesSubplot:title={'center':'Units Sold'}>,\n",
       "        <AxesSubplot:title={'center':'Manufacturing Price'}>],\n",
       "       [<AxesSubplot:title={'center':'Sale Price'}>,\n",
       "        <AxesSubplot:title={'center':'Profit'}>]], dtype=object)"
      ]
     },
     "execution_count": 14,
     "metadata": {},
     "output_type": "execute_result"
    },
    {
     "data": {
      "image/png": "[encoded data removed]",
      "text/plain": [
       "<Figure size 432x288 with 4 Axes>"
      ]
     },
     "metadata": {
      "needs_background": "light"
     },
     "output_type": "display_data"
    }
   ],
   "source": [
    "df.hist(bins=50)"
   ]
  },
  {
   "cell_type": "code",
   "execution_count": 15,
   "id": "1ada9949-7597-4ccf-9b0d-85c24cf10a1f",
   "metadata": {},
   "outputs": [
    {
     "data": {
      "text/plain": [
       "<AxesSubplot:xlabel='Segment'>"
      ]
     },
     "execution_count": 15,
     "metadata": {},
     "output_type": "execute_result"
    },
    {
     "data": {
      "image/png": "[encoded data removed]",
      "text/plain": [
       "<Figure size 432x288 with 1 Axes>"
      ]
     },
     "metadata": {
      "needs_background": "light"
     },
     "output_type": "display_data"
    }
   ],
   "source": [
    "df['Profit'].plot()"
   ]
  },
  {
   "cell_type": "markdown",
   "id": "a48fd359-6577-4dd6-bfa0-6dc245d04d43",
   "metadata": {},
   "source": [
    "#### Après avoir nettoyé les données on exporte notre DataFrame vers notre base de données SQL:"
   ]
  },
  {
   "cell_type": "code",
   "execution_count": 18,
   "id": "bc090dba-3f92-4eb7-a649-2403a6f9c49a",
   "metadata": {},
   "outputs": [
    {
     "name": "stderr",
     "output_type": "stream",
     "text": [
      "c:\\users\\karim\\appdata\\local\\programs\\python\\python38\\lib\\site-packages\\pandas\\core\\generic.py:2605: UserWarning: The spaces in these column names will not be changed. In pandas versions < 0.14, spaces were converted to underscores.\n",
      "  sql.to_sql(\n"
     ]
    }
   ],
   "source": [
    "df.to_sql(name='maBD.db',con=sqlite3.connect('maBD.db'),if_exists='replace')"
   ]
  }
 ],
 "metadata": {
  "kernelspec": {
   "display_name": "Python 3",
   "language": "python",
   "name": "python3"
  },
  "language_info": {
   "codemirror_mode": {
    "name": "ipython",
    "version": 3
   },
   "file_extension": ".py",
   "mimetype": "text/x-python",
   "name": "python",
   "nbconvert_exporter": "python",
   "pygments_lexer": "ipython3",
   "version": "3.8.6"
  }
 },
 "nbformat": 4,
 "nbformat_minor": 5
}
